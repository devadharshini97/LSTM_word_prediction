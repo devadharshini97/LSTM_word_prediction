{
 "cells": [
  {
   "cell_type": "code",
   "execution_count": 2,
   "metadata": {},
   "outputs": [],
   "source": [
    "import numpy as np\n",
    "import torch\n",
    "import torch.nn as nn\n",
    "import torch.optim as optim\n",
    "from torch.utils.data import Dataset, DataLoader\n",
    "\n",
    "import nltk\n",
    "from nltk.corpus import gutenberg\n",
    "from bs4 import BeautifulSoup\n",
    "import re\n"
   ]
  },
  {
   "cell_type": "code",
   "execution_count": 15,
   "metadata": {},
   "outputs": [
    {
     "data": {
      "text/plain": [
       "'cuda'"
      ]
     },
     "execution_count": 15,
     "metadata": {},
     "output_type": "execute_result"
    }
   ],
   "source": [
    "device = \"cuda\" if torch.cuda.is_available() else \"cpu\"\n",
    "device"
   ]
  },
  {
   "cell_type": "code",
   "execution_count": 3,
   "metadata": {},
   "outputs": [
    {
     "name": "stderr",
     "output_type": "stream",
     "text": [
      "[nltk_data] Downloading package gutenberg to\n",
      "[nltk_data]     C:\\Users\\dayyapp\\AppData\\Roaming\\nltk_data...\n",
      "[nltk_data]   Unzipping corpora\\gutenberg.zip.\n",
      "[nltk_data] Downloading package stopwords to\n",
      "[nltk_data]     C:\\Users\\dayyapp\\AppData\\Roaming\\nltk_data...\n",
      "[nltk_data]   Unzipping corpora\\stopwords.zip.\n"
     ]
    }
   ],
   "source": [
    "# Downloading and sanitizing the dataset\n",
    "nltk.download('gutenberg')\n",
    "nltk.download('stopwords')\n",
    "corpus = gutenberg.raw('austen-sense.txt')"
   ]
  },
  {
   "cell_type": "code",
   "execution_count": 4,
   "metadata": {},
   "outputs": [],
   "source": [
    "def denoise_text(text):\n",
    "    # remove html strips\n",
    "    soup = BeautifulSoup(text, 'html.parser')\n",
    "    text = soup.get_text()\n",
    "    # replace \\n with space\n",
    "    text = re.sub('\\n', ' ', text)\n",
    "    # remove square brackets\n",
    "    text = re.sub('\\[[^]]*\\]', ' ', text)\n",
    "    # replace punctuation with space\n",
    "    text = re.sub(r'[,.;@#?!&$\\-]+\\ *', ' ', text, flags=re.VERBOSE)\n",
    "    # remove special characters\n",
    "    text = re.sub(r'[^\\w\\s]', ' ', text)\n",
    "    # replace extra spaces with single space\n",
    "    text = re.sub(' +', ' ', text)\n",
    "    return text.lower().strip()\n",
    "\n",
    "corpus = denoise_text(corpus)\n",
    "words = corpus.split()\n",
    "unique_words = np.unique(words)\n",
    "word_to_index = {w: i for i, w in enumerate(unique_words)}\n",
    "index_to_word = {i: w for i, w in enumerate(unique_words)}\n",
    "vocab_size = len(unique_words)"
   ]
  },
  {
   "cell_type": "code",
   "execution_count": 5,
   "metadata": {},
   "outputs": [],
   "source": [
    "# Creating 6-grams dataset\n",
    "seq_len = 6\n",
    "sequences = []\n",
    "for i in range(seq_len, len(words)):\n",
    "    seq = words[i-seq_len:i]\n",
    "    sequences.append((seq[:-1], seq[-1]))"
   ]
  },
  {
   "cell_type": "code",
   "execution_count": 6,
   "metadata": {},
   "outputs": [],
   "source": [
    "class LSTMModel(nn.Module):\n",
    "    def __init__(self, vocab_size, embedding_dim, hidden_dim, num_layers):\n",
    "        super().__init__()\n",
    "        self.embedding = nn.Embedding(vocab_size, embedding_dim)\n",
    "        self.lstm = nn.LSTM(embedding_dim, hidden_dim, num_layers, batch_first=True)\n",
    "        self.fc = nn.Linear(hidden_dim, vocab_size)\n",
    "    \n",
    "    def forward(self, x):\n",
    "        x = self.embedding(x)\n",
    "        x, _ = self.lstm(x)\n",
    "        x = self.fc(x[:, -1, :])\n",
    "        return x"
   ]
  },
  {
   "cell_type": "code",
   "execution_count": 7,
   "metadata": {},
   "outputs": [],
   "source": [
    "# Defining the dataset\n",
    "class TextDataset(Dataset):\n",
    "    def __init__(self, sequences, word_to_index):\n",
    "        self.sequences = sequences\n",
    "        self.word_to_index = word_to_index\n",
    "    \n",
    "    def __len__(self):\n",
    "        return len(self.sequences)\n",
    "    \n",
    "    def __getitem__(self, idx):\n",
    "        x, y = self.sequences[idx]\n",
    "        x = torch.tensor([self.word_to_index[w] for w in x])\n",
    "        y = torch.tensor(self.word_to_index[y])\n",
    "        return x, y"
   ]
  },
  {
   "cell_type": "code",
   "execution_count": 8,
   "metadata": {},
   "outputs": [],
   "source": [
    "# Training the model\n",
    "batch_size = 64\n",
    "embedding_dim = 100\n",
    "hidden_dim = 128\n",
    "num_layers = 2\n",
    "learning_rate = 0.001\n",
    "num_epochs = 50"
   ]
  },
  {
   "cell_type": "code",
   "execution_count": 19,
   "metadata": {},
   "outputs": [],
   "source": [
    "model = LSTMModel(vocab_size, embedding_dim, hidden_dim, num_layers)\n",
    "model.to(\"cuda\")\n",
    "criterion = nn.CrossEntropyLoss()\n",
    "optimizer = optim.Adam(model.parameters(), lr=learning_rate)\n",
    "dataset = TextDataset(sequences, word_to_index)\n",
    "dataloader = DataLoader(dataset, batch_size=batch_size, shuffle=True)"
   ]
  },
  {
   "cell_type": "code",
   "execution_count": 18,
   "metadata": {},
   "outputs": [
    {
     "data": {
      "text/plain": [
       "LSTMModel(\n",
       "  (embedding): Embedding(6330, 100)\n",
       "  (lstm): LSTM(100, 128, num_layers=2, batch_first=True)\n",
       "  (fc): Linear(in_features=128, out_features=6330, bias=True)\n",
       ")"
      ]
     },
     "execution_count": 18,
     "metadata": {},
     "output_type": "execute_result"
    }
   ],
   "source": []
  },
  {
   "cell_type": "code",
   "execution_count": 20,
   "metadata": {},
   "outputs": [
    {
     "name": "stdout",
     "output_type": "stream",
     "text": [
      "Epoch 1 Loss: 6.0551\n",
      "Epoch 2 Loss: 5.3169\n",
      "Epoch 3 Loss: 4.9985\n",
      "Epoch 4 Loss: 4.7452\n",
      "Epoch 5 Loss: 4.5082\n",
      "Epoch 6 Loss: 4.2778\n",
      "Epoch 7 Loss: 4.0543\n",
      "Epoch 8 Loss: 3.8366\n",
      "Epoch 9 Loss: 3.6223\n",
      "Epoch 10 Loss: 3.4153\n",
      "Epoch 11 Loss: 3.2171\n",
      "Epoch 12 Loss: 3.0295\n",
      "Epoch 13 Loss: 2.8485\n",
      "Epoch 14 Loss: 2.6776\n",
      "Epoch 15 Loss: 2.5159\n",
      "Epoch 16 Loss: 2.3634\n",
      "Epoch 17 Loss: 2.2184\n",
      "Epoch 18 Loss: 2.0826\n",
      "Epoch 19 Loss: 1.9554\n",
      "Epoch 20 Loss: 1.8353\n",
      "Epoch 21 Loss: 1.7223\n",
      "Epoch 22 Loss: 1.6155\n",
      "Epoch 23 Loss: 1.5194\n",
      "Epoch 24 Loss: 1.4258\n",
      "Epoch 25 Loss: 1.3405\n",
      "Epoch 26 Loss: 1.2606\n",
      "Epoch 27 Loss: 1.1885\n",
      "Epoch 28 Loss: 1.1187\n",
      "Epoch 29 Loss: 1.0531\n",
      "Epoch 30 Loss: 0.9951\n",
      "Epoch 31 Loss: 0.9423\n",
      "Epoch 32 Loss: 0.8898\n",
      "Epoch 33 Loss: 0.8437\n",
      "Epoch 34 Loss: 0.8003\n",
      "Epoch 35 Loss: 0.7589\n",
      "Epoch 36 Loss: 0.7252\n",
      "Epoch 37 Loss: 0.6883\n",
      "Epoch 38 Loss: 0.6582\n",
      "Epoch 39 Loss: 0.6279\n",
      "Epoch 40 Loss: 0.6035\n",
      "Epoch 41 Loss: 0.5798\n",
      "Epoch 42 Loss: 0.5556\n",
      "Epoch 43 Loss: 0.5348\n",
      "Epoch 44 Loss: 0.5087\n",
      "Epoch 45 Loss: 0.4955\n",
      "Epoch 46 Loss: 0.4786\n",
      "Epoch 47 Loss: 0.4651\n",
      "Epoch 48 Loss: 0.4474\n",
      "Epoch 49 Loss: 0.4360\n",
      "Epoch 50 Loss: 0.4236\n"
     ]
    }
   ],
   "source": [
    "loss_history = []\n",
    "for epoch in range(num_epochs):\n",
    "    running_loss = 0.0\n",
    "    for inputs, targets in dataloader:\n",
    "        optimizer.zero_grad()\n",
    "        outputs = model(inputs.to(device))\n",
    "        loss = criterion(outputs, targets.to(device))\n",
    "        loss.backward()\n",
    "        optimizer.step()\n",
    "        running_loss += loss.item() * inputs.size(0)\n",
    "    epoch_loss = running_loss / len(dataset)\n",
    "    loss_history.append(epoch_loss)\n",
    "    print(f\"Epoch {epoch+1} Loss: {epoch_loss:.4f}\")"
   ]
  },
  {
   "cell_type": "code",
   "execution_count": 22,
   "metadata": {},
   "outputs": [
    {
     "data": {
      "image/png": "[encoded data removed]",
      "text/plain": [
       "<Figure size 640x480 with 1 Axes>"
      ]
     },
     "metadata": {},
     "output_type": "display_data"
    },
    {
     "name": "stdout",
     "output_type": "stream",
     "text": [
      "his natural shyness was overcome his earnest within be still her desire must of an interesting character as i did not i have had you your own house i believe he has no doubt that no ever is all my cousins but dear i am sure he must be looked to hear it all i am disappointed i would not go i cannot stay it again but tomorrow and that i am sure when she was staying in this extraordinary such an event no whatever she might have found me that while he might bring up the same men was on my love a few\n"
     ]
    }
   ],
   "source": [
    "import matplotlib.pyplot as plt\n",
    "\n",
    "plt.plot(loss_history)\n",
    "plt.title('Training Loss')\n",
    "plt.xlabel('Epoch')\n",
    "plt.ylabel('Loss')\n",
    "plt.show()\n",
    "# Generating text\n",
    "seed = \"his natural shyness was overcome\"\n",
    "generated_text = seed\n",
    "\n",
    "for i in range(100):\n",
    "    seq = generated_text.split()[-6:]\n",
    "    seq_idx = torch.tensor([word_to_index[w] for w in seq]).unsqueeze(0)\n",
    "    pred_idx = model(seq_idx.to(device)).argmax(dim=1).item()\n",
    "    pred_word = index_to_word[pred_idx]\n",
    "    generated_text += \" \" + pred_word\n",
    "\n",
    "print(generated_text)"
   ]
  }
 ],
 "metadata": {
  "kernelspec": {
   "display_name": "Python 3",
   "language": "python",
   "name": "python3"
  },
  "language_info": {
   "codemirror_mode": {
    "name": "ipython",
    "version": 3
   },
   "file_extension": ".py",
   "mimetype": "text/x-python",
   "name": "python",
   "nbconvert_exporter": "python",
   "pygments_lexer": "ipython3",
   "version": "3.9.0"
  },
  "orig_nbformat": 4
 },
 "nbformat": 4,
 "nbformat_minor": 2
}
